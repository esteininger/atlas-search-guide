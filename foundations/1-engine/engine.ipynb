{
 "cells": [
  {
   "cell_type": "markdown",
   "id": "8009478f",
   "metadata": {},
   "source": [
    "Alright folks, this will be a tutorial that walks you through how to build your own Full Text Search engine from scratch.\n",
    "\n",
    "By completing this tutorial, you will understand Tokenizers, Analyzers, Indexing, and Search. "
   ]
  },
  {
   "cell_type": "code",
   "execution_count": 3,
   "id": "bd6b46aa",
   "metadata": {},
   "outputs": [
    {
     "name": "stdout",
     "output_type": "stream",
     "text": [
      "Requirement already satisfied: pystemmer in /usr/local/lib/python3.9/site-packages (2.0.1)\r\n"
     ]
    }
   ],
   "source": [
    "# Install a pip package in the current Jupyter kernel\n",
    "import sys\n",
    "!{sys.executable} -m pip install pystemmer"
   ]
  },
  {
   "cell_type": "code",
   "execution_count": 4,
   "id": "28fe5459",
   "metadata": {},
   "outputs": [],
   "source": [
    "import Stemmer\n",
    "import re\n",
    "import string"
   ]
  },
  {
   "cell_type": "code",
   "execution_count": 5,
   "id": "ab6c81e8",
   "metadata": {},
   "outputs": [],
   "source": [
    "def tokenize(text):\n",
    "    return text.split()\n",
    "\n",
    "def lowercase_filter(tokens):\n",
    "    return [token.lower() for token in tokens]\n",
    "\n",
    "def stem_filter(tokens):\n",
    "    STEMMER = Stemmer.Stemmer('english')\n",
    "    return STEMMER.stemWords(tokens)\n",
    "\n",
    "def punctuation_filter(tokens):\n",
    "    PUNCTUATION = re.compile('[%s]' % re.escape(string.punctuation))\n",
    "    return [PUNCTUATION.sub('', token) for token in tokens]\n",
    "\n",
    "# top 25 most common words in English and \"wikipedia\":\n",
    "# https://en.wikipedia.org/wiki/Most_common_words_in_English\n",
    "def stopword_filter(tokens):\n",
    "    STOPWORDS = set(['the', 'be', 'to', 'of', 'and', 'a', 'in', 'that', 'have',\n",
    "                     'I', 'it', 'for', 'not', 'on', 'with', 'he', 'as', 'you',\n",
    "                     'do', 'at', 'this', 'but', 'his', 'by', 'from', 'wikipedia'])\n",
    "    return [token for token in tokens if token not in STOPWORDS]"
   ]
  },
  {
   "cell_type": "code",
   "execution_count": 6,
   "id": "0fb223d8",
   "metadata": {},
   "outputs": [],
   "source": [
    "def analyze(text):\n",
    "    tokens = tokenize(text)\n",
    "    tokens = lowercase_filter(tokens)\n",
    "    tokens = punctuation_filter(tokens)\n",
    "    tokens = stopword_filter(tokens)\n",
    "    tokens = stem_filter(tokens)\n",
    "\n",
    "    return [token for token in tokens if token]"
   ]
  },
  {
   "cell_type": "code",
   "execution_count": 7,
   "id": "043f0eb6",
   "metadata": {},
   "outputs": [
    {
     "data": {
      "text/plain": [
       "['hello', 'world', 'my', 'name', 'is', 'ethan']"
      ]
     },
     "execution_count": 7,
     "metadata": {},
     "output_type": "execute_result"
    }
   ],
   "source": [
    "analyze(\"hello world my name is Ethan\")"
   ]
  },
  {
   "cell_type": "code",
   "execution_count": null,
   "id": "6060387c",
   "metadata": {},
   "outputs": [],
   "source": []
  }
 ],
 "metadata": {
  "kernelspec": {
   "display_name": "Python 3",
   "language": "python",
   "name": "python3"
  },
  "language_info": {
   "codemirror_mode": {
    "name": "ipython",
    "version": 3
   },
   "file_extension": ".py",
   "mimetype": "text/x-python",
   "name": "python",
   "nbconvert_exporter": "python",
   "pygments_lexer": "ipython3",
   "version": "3.9.0"
  }
 },
 "nbformat": 4,
 "nbformat_minor": 5
}
