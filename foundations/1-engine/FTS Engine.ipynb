{
 "cells": [
  {
   "cell_type": "markdown",
   "metadata": {},
   "source": [
    "Alright folks, this will be a tutorial that walks you through how to build your own Full Text Search engine from scratch.\n",
    "\n",
    "By completing this tutorial, you will understand Tokenizers, Analyzers, Indexing, and Search. "
   ]
  },
  {
   "cell_type": "markdown",
   "metadata": {},
   "source": [
    "## Analyze"
   ]
  },
  {
   "cell_type": "markdown",
   "metadata": {},
   "source": [
    "Installing all the prerequisites"
   ]
  },
  {
   "cell_type": "code",
   "execution_count": null,
   "metadata": {},
   "outputs": [],
   "source": [
    "! pip install pystemmer"
   ]
  },
  {
   "cell_type": "markdown",
   "metadata": {},
   "source": [
    "Importing some of the libraries we will be using.\n",
    "\n",
    "**Stemmer:** which is basically just removing the suffix from a word and reduce it to its root word. For example: “Flying” is a word and its suffix is “ing”, if we remove “ing” from “Flying” then we will get base word or root word which is “Fly”.\n",
    "\n",
    "**re:** Python's default regex library\n",
    "\n",
    "**string:** Python's default string manipulation library"
   ]
  },
  {
   "cell_type": "code",
   "execution_count": null,
   "metadata": {},
   "outputs": [],
   "source": [
    "import Stemmer\n",
    "import re\n",
    "import string"
   ]
  },
  {
   "cell_type": "code",
   "execution_count": null,
   "metadata": {},
   "outputs": [],
   "source": [
    "# simply breaking a string up by whitespace into an array of strings.\n",
    "def tokenize(text):\n",
    "    return text.split()"
   ]
  },
  {
   "cell_type": "code",
   "execution_count": null,
   "metadata": {},
   "outputs": [],
   "source": [
    "# converting every string into lowercarse\n",
    "def lowercase_filter(tokens):\n",
    "    return [token.lower() for token in tokens]"
   ]
  },
  {
   "cell_type": "code",
   "execution_count": null,
   "metadata": {},
   "outputs": [],
   "source": [
    "# applying the stemmer library to get every word to its' root\n",
    "def stem_filter(tokens):\n",
    "    STEMMER = Stemmer.Stemmer('english')\n",
    "    return STEMMER.stemWords(tokens)"
   ]
  },
  {
   "cell_type": "code",
   "execution_count": null,
   "metadata": {},
   "outputs": [],
   "source": [
    "# remove all punctuation\n",
    "def punctuation_filter(tokens):\n",
    "    PUNCTUATION = re.compile('[%s]' % re.escape(string.punctuation))\n",
    "    return [PUNCTUATION.sub('', token) for token in tokens]"
   ]
  },
  {
   "cell_type": "markdown",
   "metadata": {},
   "source": [
    "These are the top 25 most common words in English according to wikipedia:\n",
    "https://en.wikipedia.org/wiki/Most_common_words_in_English"
   ]
  },
  {
   "cell_type": "code",
   "execution_count": null,
   "metadata": {},
   "outputs": [],
   "source": [
    "# remove all stop words\n",
    "def stopword_filter(tokens):\n",
    "    STOPWORDS = set(['the', 'be', 'to', 'of', 'and', 'a', 'in', 'that', 'have',\n",
    "                     'I', 'it', 'for', 'not', 'on', 'with', 'he', 'as', 'you',\n",
    "                     'do', 'at', 'this', 'but', 'his', 'by', 'from', 'wikipedia'])\n",
    "    return [token for token in tokens if token not in STOPWORDS]"
   ]
  },
  {
   "cell_type": "markdown",
   "metadata": {},
   "source": [
    "Now an \"analyze\" function which puts all of the functions above into one single function:"
   ]
  },
  {
   "cell_type": "code",
   "execution_count": null,
   "metadata": {},
   "outputs": [],
   "source": [
    "def analyze(text):\n",
    "    tokens = tokenize(text)\n",
    "    tokens = lowercase_filter(tokens)\n",
    "    tokens = punctuation_filter(tokens)\n",
    "    tokens = stopword_filter(tokens)\n",
    "    tokens = stem_filter(tokens)\n",
    "\n",
    "    return [token for token in tokens if token]"
   ]
  },
  {
   "cell_type": "markdown",
   "metadata": {},
   "source": [
    "So let's test it using a common sentence."
   ]
  },
  {
   "cell_type": "code",
   "execution_count": null,
   "metadata": {},
   "outputs": [],
   "source": [
    "analyze(\"The quick brown fox jumps over the lazy dog\")"
   ]
  },
  {
   "cell_type": "markdown",
   "metadata": {},
   "source": [
    "## Index"
   ]
  },
  {
   "cell_type": "code",
   "execution_count": null,
   "metadata": {},
   "outputs": [],
   "source": [
    "import json\n",
    "\n",
    "# importing the movies collection as a dictionary\n",
    "filename = 'data/movies.json'\n",
    "with open(filename, 'r') as f:\n",
    "    documents = json.load(f)\n",
    "\n",
    "def index():\n",
    "    index = {}\n",
    "    # for each movie, run the analyzer function above on title and add it to a set with the movies' ID\n",
    "    for document in documents:\n",
    "        for token in analyze(document['title']):\n",
    "            index[token] = set()\n",
    "            index[token].add(document['_id']['$oid'])\n",
    "            \n",
    "    return index"
   ]
  },
  {
   "cell_type": "markdown",
   "metadata": {},
   "source": [
    "## Search"
   ]
  },
  {
   "cell_type": "code",
   "execution_count": null,
   "metadata": {},
   "outputs": [],
   "source": [
    "def search(query):\n",
    "    # tokenize the query     \n",
    "    analyzed_query = analyze(query)\n",
    "    # grab movie tokens from the index that match the tokens from the query    \n",
    "    results = [index().get(token, set()) for token in analyzed_query]\n",
    "    \n",
    "    resulting_documents = []\n",
    "    \n",
    "    # return all movies where the tokenized query matches the tokenized title\n",
    "    for result in results:\n",
    "        result_str = ', '.join(result)\n",
    "        for document in documents:\n",
    "            if document['_id']['$oid'] == result_str:\n",
    "                resulting_documents.append(document)\n",
    "    return resulting_documents\n",
    "    \n",
    "search(\"forrest gump\")"
   ]
  },
  {
   "cell_type": "markdown",
   "metadata": {},
   "source": [
    "## Relevance"
   ]
  },
  {
   "cell_type": "code",
   "execution_count": null,
   "metadata": {},
   "outputs": [],
   "source": [
    "# index.py\n",
    "import math\n",
    "\n",
    "def document_frequency(self, token):\n",
    "    return len(self.index.get(token, set()))\n",
    "\n",
    "def inverse_document_frequency(self, token):\n",
    "    # Manning, Hinrich and Schütze use log10, so we do too, even though it\n",
    "    # doesn't really matter which log we use anyway\n",
    "    # https://nlp.stanford.edu/IR-book/html/htmledition/inverse-document-frequency-1.html\n",
    "    return math.log10(len(self.documents) / self.document_frequency(token))\n",
    "\n",
    "def rank(self, analyzed_query, documents):\n",
    "    results = []\n",
    "    if not documents:\n",
    "        return results\n",
    "    for document in documents:\n",
    "        score = 0.0\n",
    "        for token in analyzed_query:\n",
    "            tf = document.term_frequency(token)\n",
    "            idf = self.inverse_document_frequency(token)\n",
    "            score += tf * idf\n",
    "        results.append((document, score))\n",
    "    return sorted(results, key=lambda doc: doc[1], reverse=True)\n",
    "    "
   ]
  }
 ],
 "metadata": {
  "kernelspec": {
   "display_name": "Python 3",
   "language": "python",
   "name": "python3"
  },
  "language_info": {
   "codemirror_mode": {
    "name": "ipython",
    "version": 3
   },
   "file_extension": ".py",
   "mimetype": "text/x-python",
   "name": "python",
   "nbconvert_exporter": "python",
   "pygments_lexer": "ipython3",
   "version": "3.8.1"
  }
 },
 "nbformat": 4,
 "nbformat_minor": 4
}
