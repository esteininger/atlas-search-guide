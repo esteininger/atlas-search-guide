{
 "cells": [
  {
   "cell_type": "markdown",
   "metadata": {},
   "source": [
    "In this walkthrough we will build a full text search capable application by incrementally building the features to be exposed via a simple REST API."
   ]
  },
  {
   "cell_type": "markdown",
   "metadata": {},
   "source": [
    "## Setup\n",
    "\n",
    "1. Create a cluster in Atlas:\n",
    "\n",
    "<img src=\"assets/create_cluster.png\" style=\"width: 300px;\"/>\n",
    "\n",
    "2. Import data into the cluster or use existing data.\n",
    "\n",
    "<img src=\"assets/import_data.png\" style=\"width: 300px;\"/>\n",
    "\n",
    "3. Create the FTS Index\n",
    "\n",
    "<img src=\"assets/create_index.png\" style=\"width: 300px;\"/>\n"
   ]
  },
  {
   "cell_type": "markdown",
   "metadata": {},
   "source": [
    "## Install Prerequisites"
   ]
  },
  {
   "cell_type": "code",
   "execution_count": null,
   "metadata": {
    "scrolled": true
   },
   "outputs": [],
   "source": [
    "! pip install pymongo"
   ]
  },
  {
   "cell_type": "code",
   "execution_count": null,
   "metadata": {
    "scrolled": true
   },
   "outputs": [],
   "source": [
    "# Just making sure everything prints cleanly\n",
    "\n",
    "from pygments.style import Style\n",
    "from pygments.token import Token\n",
    "from pygments import highlight\n",
    "from pygments.lexers import JsonLexer\n",
    "from pygments.formatters import Terminal256Formatter\n",
    "\n",
    "\n",
    "class MyStyle(Style):\n",
    "    styles = {\n",
    "        Token.String: 'ansigreen',\n",
    "        Token.Literal: 'ansibrightyellow',\n",
    "        Token.Keyword: 'ansimagenta',\n",
    "        Token.Operator: 'ansibrightmagenta'\n",
    "    }\n",
    "\n",
    "def pp(doc):\n",
    "    formatted_json = json.dumps(json.loads(json_util.dumps(doc)), indent=4)\n",
    "    colorful_json = highlight(formatted_json, JsonLexer(), Terminal256Formatter(style=MyStyle))\n",
    "    print(colorful_json)"
   ]
  },
  {
   "cell_type": "code",
   "execution_count": null,
   "metadata": {
    "scrolled": true
   },
   "outputs": [],
   "source": [
    "import pymongo\n",
    "from bson import json_util\n",
    "import ssl\n",
    "from config import mongo_uri\n",
    "import json\n",
    "    \n",
    "conn = pymongo.MongoClient(mongo_uri, ssl_cert_reqs=ssl.CERT_NONE)\n",
    "\n",
    "movies_collection = conn['sample_mflix']['movies']"
   ]
  },
  {
   "cell_type": "markdown",
   "metadata": {},
   "source": [
    "## Basic Search\n",
    "\n",
    "Run a simple text search."
   ]
  },
  {
   "cell_type": "code",
   "execution_count": null,
   "metadata": {
    "scrolled": true
   },
   "outputs": [],
   "source": [
    "pipeline = [\n",
    "    {\n",
    "        '$search': {\n",
    "            'text': {\n",
    "                'query': \"fight club\",\n",
    "                'path': \"title\"\n",
    "            }\n",
    "        }\n",
    "    },\n",
    "    {\n",
    "        '$project': {\n",
    "            'title':1,\n",
    "            '_id':0,\n",
    "            'score': {\n",
    "                '$meta': 'searchScore'\n",
    "            }\n",
    "        }\n",
    "    }\n",
    "]\n",
    "docs = movies_collection.aggregate(pipeline)\n",
    "pp(docs)\n",
    "\n",
    "conn.close()"
   ]
  },
  {
   "cell_type": "markdown",
   "metadata": {},
   "source": [
    "## Fuzzy\n",
    "\n",
    "Often referred to as approximate string matching, fuzzy matching is a technique of finding strings that match a pattern approximately rather than exactly. It's common use case is when there are common mispellings, when users make errors (\"fat fingering\"), etc.\n",
    "\n",
    "**maxEdits** uses the Levenshtein distance, which is the difference between two string sequences."
   ]
  },
  {
   "cell_type": "code",
   "execution_count": null,
   "metadata": {
    "scrolled": true
   },
   "outputs": [],
   "source": [
    "pipeline = [\n",
    "    {\n",
    "        '$search': {\n",
    "            'text': {\n",
    "                'query': \"might cub\",\n",
    "                'path': \"title\",\n",
    "                'fuzzy':{\n",
    "                    'maxEdits':2\n",
    "                }\n",
    "            }\n",
    "        }\n",
    "    },\n",
    "    {\n",
    "        '$project': {\n",
    "            'title':1,\n",
    "            '_id':0,\n",
    "            'score': {\n",
    "                '$meta': 'searchScore'\n",
    "            }\n",
    "        }\n",
    "    }\n",
    "]\n",
    "docs = movies_collection.aggregate(pipeline)\n",
    "pp(docs)\n",
    "\n",
    "conn.close()"
   ]
  },
  {
   "cell_type": "markdown",
   "metadata": {},
   "source": [
    "## Highlighting\n",
    "\n",
    "Add a relevance score and hit highlights to the results."
   ]
  },
  {
   "cell_type": "code",
   "execution_count": null,
   "metadata": {},
   "outputs": [],
   "source": [
    "pipeline = [\n",
    "        {\n",
    "            '$search': {\n",
    "                'text': {\n",
    "                    'query': \"fight\",\n",
    "                    'path': \"title\"\n",
    "                },\n",
    "                # text highlighting\n",
    "                'highlight': { \"path\": \"title\" }\n",
    "            }\n",
    "        }, {\n",
    "            '$project': {\n",
    "                'title':1,\n",
    "                '_id':0,\n",
    "                'score': {\n",
    "                    '$meta': 'searchScore'\n",
    "                },\n",
    "                'highlights': {\"$meta\": \"searchHighlights\"},\n",
    "                'score': {\n",
    "                    '$meta': 'searchScore'\n",
    "                }\n",
    "            }\n",
    "        }\n",
    "    ]\n",
    "\n",
    "docs = movies_collection.aggregate(pipeline)\n",
    "pp(docs)\n",
    "\n",
    "conn.close()"
   ]
  }
 ],
 "metadata": {
  "kernelspec": {
   "display_name": "Python 3",
   "language": "python",
   "name": "python3"
  },
  "language_info": {
   "codemirror_mode": {
    "name": "ipython",
    "version": 3
   },
   "file_extension": ".py",
   "mimetype": "text/x-python",
   "name": "python",
   "nbconvert_exporter": "python",
   "pygments_lexer": "ipython3",
   "version": "3.8.1"
  }
 },
 "nbformat": 4,
 "nbformat_minor": 4
}
