{
 "cells": [
  {
   "cell_type": "markdown",
   "id": "9cc5c57b",
   "metadata": {},
   "source": [
    "## What is Flexible Querying?\n",
    "\n",
    "Flexible querying provides the ability to execute a performant query that spans multiple indexes in your data store. This means you can write ad-hoc, dynamically generated queries, where you don't need to know the query, fields or ordering of fields in advance."
   ]
  },
  {
   "cell_type": "markdown",
   "id": "1b86d510",
   "metadata": {},
   "source": [
    "## Your application is in a constant state of evolution\n",
    "\n",
    "Let’s say we have a hypothetical movie application with documents like:"
   ]
  },
  {
   "cell_type": "code",
   "execution_count": null,
   "id": "dac308de",
   "metadata": {},
   "outputs": [],
   "source": [
    "import pymongo\n",
    "# from config import mongo_uri\n",
    "from pymongoexplain import ExplainableCollection\n",
    "import pprint\n",
    "\n",
    "pp = pprint.PrettyPrinter()\n",
    "\n",
    "doc = {\n",
    "  \"title\": \"Fight Club\",\n",
    "  \"year\": 1999,\n",
    "  \"imdb\": {\n",
    "    \"rating\": 8.9,\n",
    "    \"votes\": 1191784,\n",
    "    \"id\": 137523\n",
    "  },\n",
    "  \"cast\":[\n",
    "    \"Edward Norton\",\n",
    "    \"Brad Pitt\"\n",
    "  ]\n",
    "}\n",
    "\n",
    "# connect\n",
    "conn = pymongo.MongoClient(\"mongo_uri\")\n",
    "collection = conn['sample_mflix']['movies']\n",
    "\n",
    "# insert\n",
    "collection.insert_one(doc)\n"
   ]
  },
  {
   "cell_type": "markdown",
   "id": "ae770d68",
   "metadata": {},
   "source": [
    "## Initial Product Requirements\n",
    "\n",
    "Now for the version 1.0 requirements, you need to query on title & year, so you first create a compound index:"
   ]
  },
  {
   "cell_type": "code",
   "execution_count": null,
   "id": "90057ad6",
   "metadata": {},
   "outputs": [],
   "source": [
    "collection.create_index([\n",
    "    ('title', 1),\n",
    "    ('year', 1)\n",
    "], name='title_year', default_language='english')"
   ]
  },
  {
   "cell_type": "code",
   "execution_count": null,
   "id": "5c6a0fe5",
   "metadata": {},
   "outputs": [],
   "source": [
    "pipeline = [\n",
    "    {\"$match\":{\"title\":\"Fight Club\", \"year\":1999} }\n",
    "]\n",
    "\n",
    "explain_plan = ExplainableCollection(\n",
    "    collection, \n",
    "    verbosity=\"executionStats\"\n",
    ").aggregate(pipeline)\n",
    "\n",
    "pp.pprint(explain_plan['executionStats']['executionStages'])"
   ]
  },
  {
   "cell_type": "markdown",
   "id": "63855629",
   "metadata": {},
   "source": [
    "## Our query evolves\n",
    "\n",
    "Now our application requirements have evolved and you need to query on cast and imdb. First you create the index, then issue the query:"
   ]
  },
  {
   "cell_type": "code",
   "execution_count": null,
   "id": "5d5bd2f9",
   "metadata": {},
   "outputs": [],
   "source": [
    "collection.create_index([\n",
    "    ('cast', 1),\n",
    "    ('imdb.rating', 1)\n",
    "], name='cast_rating', default_language='english')"
   ]
  },
  {
   "cell_type": "code",
   "execution_count": null,
   "id": "27a2c7ce",
   "metadata": {},
   "outputs": [],
   "source": [
    "pipeline = [\n",
    "    {\"$match\":{\"cast\":\"Edward Norton\", \"imdb.rating\":{ \"$gte\":9 } } }\n",
    "]\n",
    "\n",
    "explain_plan = ExplainableCollection(\n",
    "    collection, \n",
    "    verbosity=\"executionStats\"\n",
    ").aggregate(pipeline)\n",
    "\n",
    "pp.pprint(explain_plan['executionStats']['executionStages'])"
   ]
  },
  {
   "cell_type": "markdown",
   "id": "550f5a2e",
   "metadata": {},
   "source": [
    "## And our query retracts\n",
    "\n",
    "Now, our application requires you issue a new query, a subset of the original:"
   ]
  },
  {
   "cell_type": "code",
   "execution_count": null,
   "id": "c36ff4b3",
   "metadata": {},
   "outputs": [],
   "source": [
    "pipeline = [\n",
    "    {\"$match\":{\"imdb.rating\" : { \"$gte\":9 } } }\n",
    "]\n",
    "\n",
    "explain_plan = ExplainableCollection(\n",
    "    collection, \n",
    "    verbosity=\"executionStats\"\n",
    ").aggregate(pipeline)\n",
    "\n",
    "pp.pprint(explain_plan['executionStats']['executionStages'])"
   ]
  },
  {
   "cell_type": "markdown",
   "id": "2ff014da",
   "metadata": {},
   "source": [
    "The query above results in the dreaded collection scan despite the previous compound index (cast_imdb.rating) comprising the above query’s key. \n",
    "\n",
    "__Note: Collection scans should be avoided because not only do they instruct the cursor to look at every document in the collection which is slow, but it also forces documents out of memory resulting in increased I/O pressure.__\n",
    "\n",
    "Now you certainly could create a new index composed of just imdb.rating, which would return an index scan for the above query,  but that’s three different indexes that the query planner would have to navigate in order to select the most performant response.\n",
    "\n",
    "## Alternatively: Atlas Search\n",
    "\n",
    "Because Lucene uses a different index data structure (inverted indexes vs B-tree indexes) it’s purpose-built to handle flexible querying well.\n",
    "\n",
    "If you create a single index that maps all of our 4 fields above (title, year, cast, imdb):\n"
   ]
  },
  {
   "cell_type": "code",
   "execution_count": null,
   "id": "10da781a",
   "metadata": {},
   "outputs": [],
   "source": [
    "{\n",
    "  \"mappings\": {\n",
    "    \"dynamic\": False,\n",
    "    \"fields\": {\n",
    "      \"title\": {\n",
    "        \"type\": \"string\",\n",
    "        \"dynamic\": False\n",
    "      },\n",
    "      \"year\": {\n",
    "        \"type\": \"number\",\n",
    "        \"dynamic\": False\n",
    "      },\n",
    "      \"cast\": {\n",
    "        \"type\": \"string\",\n",
    "        \"dynamic\": False\n",
    "      },\n",
    "      \"imdb.rating\": {\n",
    "        \"type\": \"number\",\n",
    "        \"dynamic\": False\n",
    "      }                  \n",
    "    }\n",
    "  }\n",
    "}"
   ]
  },
  {
   "cell_type": "markdown",
   "id": "d6134146",
   "metadata": {},
   "source": [
    "Then you issue a query that first spans title & year via a must (AND) clause, which is the equivalent of  `db.collection.find({\"title\":\"Fight Club\", \"year\":1999})`:"
   ]
  },
  {
   "cell_type": "code",
   "execution_count": null,
   "id": "c334feaf",
   "metadata": {},
   "outputs": [],
   "source": [
    "pipeline = [{\n",
    "  \"$search\": {\n",
    "    \"compound\": {\n",
    "      \"must\": [{\n",
    "          \"text\": {\n",
    "            \"query\": \"Fight Club\",\n",
    "            \"path\": \"title\"\n",
    "          }\n",
    "        },\n",
    "        {\n",
    "          \"range\": {\n",
    "            \"path\": \"year\",\n",
    "            \"gte\": 1999,\n",
    "            \"lte\": 1999\n",
    "          }\n",
    "        }\n",
    "      ]\n",
    "    }\n",
    "  }\n",
    "}]\n",
    "\n",
    "explain_plan = ExplainableCollection(\n",
    "    collection, \n",
    "    verbosity=\"allPlansExecution\"\n",
    ").aggregate(pipeline)\n",
    "\n",
    "# pp.pprint(explain_plan)"
   ]
  },
  {
   "cell_type": "markdown",
   "id": "3d235fed",
   "metadata": {},
   "source": [
    "Then when you add `imdb` and `cast` to the query, you can still get performant results:"
   ]
  },
  {
   "cell_type": "code",
   "execution_count": null,
   "id": "e679f2c2",
   "metadata": {},
   "outputs": [],
   "source": [
    "pipeline = [{\n",
    "    \"$search\": {\n",
    "      \"compound\": {\n",
    "        \"must\": [\n",
    "          {\n",
    "            \"text\": {\n",
    "              \"query\": \"Fight\",\n",
    "              \"path\": \"title\"\n",
    "            }\n",
    "          },\n",
    "          {\n",
    "            \"range\": {\n",
    "              \"path\": \"year\",\n",
    "              \"gte\": 1999,\n",
    "              \"lte\": 1999\n",
    "            }\n",
    "          },\n",
    "            {\n",
    "              \"text\": {\n",
    "                \"query\": \"Edward Norton\",\n",
    "                \"path\": \"cast\"\n",
    "              }\n",
    "            },\n",
    "            {\n",
    "              \"range\": {\n",
    "                \"gte\": 9,\n",
    "                \"path\": \"imdb.rating\"\n",
    "              }\n",
    "            }\n",
    "          ]\n",
    "        }\n",
    "      }\n",
    "    }\n",
    "  ]\n",
    "            \n",
    "        \n",
    "explain_plan = ExplainableCollection(\n",
    "    collection, \n",
    "    verbosity=\"allPlansExecution\"\n",
    ").aggregate(pipeline)\n",
    "\n",
    "# pp.pprint(explain_plan)"
   ]
  },
  {
   "cell_type": "markdown",
   "id": "b4ad4efd",
   "metadata": {},
   "source": [
    "[Link to blog post](https://www.mongodb.com/developer/products/atlas/atlas-search-for-index-intersection/)"
   ]
  },
  {
   "cell_type": "code",
   "execution_count": null,
   "id": "92ac92bd",
   "metadata": {},
   "outputs": [],
   "source": []
  }
 ],
 "metadata": {
  "kernelspec": {
   "display_name": "Python 3 (ipykernel)",
   "language": "python",
   "name": "python3"
  },
  "language_info": {
   "codemirror_mode": {
    "name": "ipython",
    "version": 3
   },
   "file_extension": ".py",
   "mimetype": "text/x-python",
   "name": "python",
   "nbconvert_exporter": "python",
   "pygments_lexer": "ipython3",
   "version": "3.10.6"
  }
 },
 "nbformat": 4,
 "nbformat_minor": 5
}
