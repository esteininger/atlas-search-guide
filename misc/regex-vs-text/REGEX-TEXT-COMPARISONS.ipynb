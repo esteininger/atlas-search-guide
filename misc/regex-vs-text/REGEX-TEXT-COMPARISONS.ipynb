{
 "cells": [
  {
   "cell_type": "markdown",
   "metadata": {},
   "source": [
    "# Description\n",
    "\n",
    "> compare and contrast legacy text/regex operators with search\n",
    "\n",
    "Review the comparison table on this page first: https://www.mongodb.com/developer/article/Atlas-Search-vs-regex/\n",
    "\n",
    "Using [regex](https://www.mongodb.com/docs/manual/reference/operator/query/regex/) and [text](https://www.mongodb.com/docs/manual/text-search/) operators tends to correlate with frustration and our opinion is that $search mitigates that risk.\n",
    "\n",
    "This proof will run through the same query and collection comparing:\n",
    "\n",
    "1. Index size\n",
    "2. Query syntax\n",
    "3. Elapsed time\n",
    "4. Returned documents/relevance"
   ]
  },
  {
   "cell_type": "code",
   "execution_count": 1,
   "metadata": {},
   "outputs": [],
   "source": [
    "# import our libraries, instantiate our classes\n",
    "import json \n",
    "from pymongo import MongoClient, TEXT\n",
    "import pprint\n",
    "import time\n",
    "\n",
    "mongo_uri = \"YOUR_CONN_STRING\"\n",
    "\n",
    "# uses mongodb sample data from Atlas\n",
    "collection = 'movies'\n",
    "db = 'sample_mflix'\n",
    "client = MongoClient(mongo_uri)[db]"
   ]
  },
  {
   "cell_type": "markdown",
   "metadata": {},
   "source": [
    "# Document sample\n",
    "```\n",
    "{\n",
    "  \"_id\": {\n",
    "    \"$oid\": \"573a1394f29313caabcde70a\"\n",
    "  },\n",
    "  \"plot\": \"Notorious gunfighter Jimmy Ringo rides into town to find his true love, who doesn't want to see him. He hasn't come looking for trouble, but trouble finds him around every corner.\",\n",
    "  \"genres\": [\"Drama\", \"Western\"],\n",
    "  \"runtime\": 85,\n",
    "  \"rated\": \"NOT RATED\",\n",
    "  \"cast\": [\"Gregory Peck\", \"Helen Westcott\", \"Millard Mitchell\", \"Jean Parker\"],\n",
    "  \"num_mflix_comments\": 1,\n",
    "  \"poster\": \"https://m.media-amazon.com/images/M/MV5BYjBiNmNiOWUtZTJhYi00N2JkLTgwYWItYTdhMjA0M2VlNGU0XkEyXkFqcGdeQXVyMjI4MjA5MzA@._V1_SY1000_SX677_AL_.jpg\",\n",
    "  \"title\": \"The Gunfighter\",\n",
    "  \"fullplot\": \"A reformed Gunfighter Jimmy Ringo is on his way to a sleepy town in the hope of a reunion with his estranged sweetheart and their young son who he has never seen. On arrival, a chance meeting with some old friends including the town's Marshal gives the repentant Jimmy some respite. But as always Jimmy's reputation has already cast its shadow, this time in the form of three vengeful cowboys hot on his trail and a local gunslinger hoping to use Jimmy to make a name for himself. With a showdown looming, the town is soon in a frenzy as news of Jimmy's arrival spreads. His movements are restricted to the saloon while a secret meeting with his son can be arranged giving him ideas of a long term reunion with his family far removed from his wild past.\",\n",
    "  \"languages\": [\"English\"],\n",
    "  \"released\": {\n",
    "    \"$date\": {\n",
    "      \"$numberLong\": \"-611107200000\"\n",
    "    }\n",
    "  },\n",
    "  \"directors\": [\"Henry King\"],\n",
    "  \"writers\": [\"William Bowers (screenplay)\", \"William Sellers (screenplay)\", \"William Bowers (story)\", \"Andrè De Toth (story)\"],\n",
    "  \"awards\": {\n",
    "    \"wins\": 0,\n",
    "    \"nominations\": 2,\n",
    "    \"text\": \"Nominated for 1 Oscar. Another 1 nomination.\"\n",
    "  },\n",
    "  \"lastupdated\": \"2015-08-21 00:31:52.783000000\",\n",
    "  \"year\": 1950,\n",
    "  \"imdb\": {\n",
    "    \"rating\": 7.7,\n",
    "    \"votes\": 6395,\n",
    "    \"id\": 42531\n",
    "  },\n",
    "  \"countries\": [\"USA\"],\n",
    "  \"type\": \"movie\",\n",
    "  \"tomatoes\": {\n",
    "    \"viewer\": {\n",
    "      \"rating\": 3.9,\n",
    "      \"numReviews\": 1205,\n",
    "      \"meter\": 89\n",
    "    },\n",
    "    \"dvd\": {\n",
    "      \"$date\": {\n",
    "        \"$numberLong\": \"1210636800000\"\n",
    "      }\n",
    "    },\n",
    "    \"critic\": {\n",
    "      \"rating\": 8,\n",
    "      \"numReviews\": 9,\n",
    "      \"meter\": 100\n",
    "    },\n",
    "    \"lastUpdated\": {\n",
    "      \"$date\": {\n",
    "        \"$numberLong\": \"1441131150000\"\n",
    "      }\n",
    "    },\n",
    "    \"rotten\": 0,\n",
    "    \"production\": \"Twentieth Century Fox\",\n",
    "    \"fresh\": 9\n",
    "  }\n",
    "}\n",
    "```"
   ]
  },
  {
   "cell_type": "markdown",
   "metadata": {},
   "source": [
    "## Text Index"
   ]
  },
  {
   "cell_type": "code",
   "execution_count": 2,
   "metadata": {},
   "outputs": [
    {
     "data": {
      "text/plain": [
       "'title_text'"
      ]
     },
     "execution_count": 2,
     "metadata": {},
     "output_type": "execute_result"
    }
   ],
   "source": [
    "# drop the index first\n",
    "try:\n",
    "    client[collection].drop_index('title_text')\n",
    "except:\n",
    "    print(\"index doesn't exist, yet.\")\n",
    "    \n",
    "# create text index; should return 'title_text'\n",
    "client[collection].create_index([(\"title\", TEXT)], default_language='english')"
   ]
  },
  {
   "cell_type": "code",
   "execution_count": 4,
   "metadata": {
    "scrolled": false
   },
   "outputs": [
    {
     "name": "stdout",
     "output_type": "stream",
     "text": [
      "TEXT QUERY for \"fight club\" in movies \n",
      "\n",
      "documents returned: \n",
      "[{'searchScore': 1.25, 'title': 'Fight, Zatoichi, Fight'},\n",
      " {'searchScore': 1.25, 'title': 'Fight, Zatoichi, Fight'},\n",
      " {'searchScore': 1.0, 'title': 'Why We Fight'},\n",
      " {'searchScore': 1.0, 'title': 'Fighting'},\n",
      " {'searchScore': 0.75, 'title': 'The Fighting Temptations'},\n",
      " {'searchScore': 0.75, 'title': 'Street Fight'},\n",
      " {'searchScore': 0.75, 'title': 'A Fighting Man'},\n",
      " {'searchScore': 0.75, 'title': 'Fight Club'},\n",
      " {'searchScore': 0.75, 'title': 'Girl Fight'},\n",
      " {'searchScore': 0.75, 'title': 'The Fighting Lady'},\n",
      " {'searchScore': 0.6666666666666666, 'title': 'Fight Back to School'},\n",
      " {'searchScore': 0.6666666666666666, 'title': 'I Will Fight No More Forever'},\n",
      " {'searchScore': 0.6666666666666666, 'title': 'Love at First Fight'},\n",
      " {'searchScore': 0.6666666666666666, 'title': 'Fight for Your Right Revisited'},\n",
      " {'searchScore': 0.625, 'title': 'Ip Man: The Final Fight'}]\n",
      "\n",
      "\n",
      "index size: 827.392  KBs \n",
      "\n",
      "elapsed time in MS: 16.58010482788086\n"
     ]
    }
   ],
   "source": [
    "# get index size\n",
    "stats = client.command('collStats', collection)\n",
    "text_index_size_in_kb = stats['indexDetails']['title_text']['block-manager']['file size in bytes'] / 1000\n",
    "\n",
    "# run query, notice how it's all lowercase. Text is case insensitive.\n",
    "# search_term = \"\\\"fight club\\\"\"\n",
    "search_term = \"fight\"\n",
    "\n",
    "# \n",
    "\n",
    "pipeline = [\n",
    "    {\n",
    "        '$match': {\n",
    "            '$text': {\n",
    "                '$search': search_term\n",
    "            }\n",
    "        }\n",
    "    }, {\n",
    "        '$project': {\n",
    "            \"title\": 1,\n",
    "            '_id':0,\n",
    "            \"searchScore\":{'$meta':'textScore'}\n",
    "        }\n",
    "    },\n",
    "    {\n",
    "        '$sort':{\"searchScore\":-1}\n",
    "    },\n",
    "    {\n",
    "        '$limit':15\n",
    "    }    \n",
    "]\n",
    "\n",
    "# execute and measure elapsed time\n",
    "start_time = time.time()\n",
    "text_query = client[collection].aggregate(pipeline)\n",
    "end_time = time.time()\n",
    "\n",
    "print(f'TEXT QUERY for \"fight club\" in {collection} \\n')\n",
    "print('documents returned: ')\n",
    "pprint.pprint(list(text_query))\n",
    "print('\\n')\n",
    "\n",
    "print('index size:', text_index_size_in_kb, ' KBs \\n')\n",
    "\n",
    "print(f'elapsed time in MS: {(end_time - start_time) * 1000}')\n"
   ]
  },
  {
   "cell_type": "markdown",
   "metadata": {},
   "source": [
    "### Notice a couple things:\n",
    "    \n",
    "1. The searchScore between Fight Club and Fight, Zatoichi Fight have such an insignificant delta for the first result being so clearly the correct document. \n",
    "2. Additionally, you can only have one text index. Suppose you need to query against multiple fields. \n",
    "3. No ability for custom Scoring\n",
    "4. not clear on how the searchScores are calculated (is it TF-IDF), see code: https://github.com/mongodb/mongo/blob/e97e4ff09cdb2398b571683312b2ddf92694a025/src/mongo/db/fts/fts_spec.cpp#L212-L232 which is saying if it's an exact match multiply by 1.1\n",
    "4. searchScore isn't sorted by default, so it's not quite intuitive on which documents SHOULD appear first: \n",
    "\n",
    "#### Notes:\n",
    "1. B-Tree data structure under the hood\n",
    "2. Limited language support: https://www.mongodb.com/docs/manual/reference/text-search-languages/#std-label-text-search-languages\n"
   ]
  },
  {
   "cell_type": "markdown",
   "metadata": {},
   "source": [
    "## Regex Query"
   ]
  },
  {
   "cell_type": "code",
   "execution_count": 5,
   "metadata": {},
   "outputs": [
    {
     "name": "stdout",
     "output_type": "stream",
     "text": [
      "TEXT QUERY for \"\\b(Fight)\\b|(Club)\\b\" in movies \n",
      "\n",
      "documents returned: \n",
      "[{'title': 'The Cheyenne Social Club'},\n",
      " {'title': 'I Will Fight No More Forever'},\n",
      " {'title': 'The Monster Club'},\n",
      " {'title': 'The Club'},\n",
      " {'title': 'Typhoon Club'},\n",
      " {'title': 'The Cotton Club'},\n",
      " {'title': 'Club Paradise'},\n",
      " {'title': 'Fight Back to School'},\n",
      " {'title': 'The Cemetery Club'},\n",
      " {'title': 'The Joy Luck Club'},\n",
      " {'title': 'The Baby-Sitters Club'},\n",
      " {'title': 'The First Wives Club'},\n",
      " {'title': 'The Boys Club'},\n",
      " {'title': 'The Players Club'},\n",
      " {'title': 'Fight, Zatoichi, Fight'},\n",
      " {'title': 'Fight Club'}]\n",
      "\n",
      "\n",
      "index size: 827.392  KBs \n",
      "\n",
      "elapsed time in MS: 41.29314422607422\n"
     ]
    }
   ],
   "source": [
    "# get index size\n",
    "\n",
    "search_term = \"\\\\b(Fight)\\\\b|(Club)\\\\b\"\n",
    "# search_term = \"\\fight club\\\"\n",
    "\n",
    "# run query. Regex is case sensitive. \n",
    "pipeline = [\n",
    "    {\n",
    "        '$match': {\n",
    "            \"title\": {\n",
    "                '$regex': search_term\n",
    "            }\n",
    "        }\n",
    "    }, {\n",
    "        '$project': {\n",
    "            \"title\": 1, \n",
    "            '_id': 0\n",
    "        }\n",
    "    }, {\n",
    "        '$limit': 16\n",
    "    }\n",
    "]\n",
    "\n",
    "# execute and measure elapsed time\n",
    "start_time = time.time()\n",
    "regex_query = client[collection].aggregate(pipeline)\n",
    "end_time = time.time()\n",
    "\n",
    "print(f'TEXT QUERY for \"{search_term}\" in {collection} \\n')\n",
    "print('documents returned: ')\n",
    "pprint.pprint(list(regex_query))\n",
    "print('\\n')\n",
    "\n",
    "print('index size:', text_index_size_in_kb, ' KBs \\n')\n",
    "\n",
    "print(f'elapsed time in MS: {(end_time - start_time) * 1000}')\n"
   ]
  },
  {
   "cell_type": "markdown",
   "metadata": {},
   "source": [
    "### Notice a couple things:\n",
    "    \n",
    "1. Great precision, but no \"flexibility\", meaning database queries are boolean (yes or no) so there's no room for error. \n",
    "2. It uses the existing text index, but the performance is abysmal. \n",
    "3. The syntax for regex pattern is not intuitive, and gets worse as needs increase.\n",
    "\n",
    "#### Why Regex?\n",
    "1. Query vs Search (query is precise vs search is human) \n",
    "2. Best of both worlds, where Regex is supported in Atlas Search as well: https://www.mongodb.com/docs/atlas/atlas-search/regex/#lucene-regular-expression-behavior"
   ]
  },
  {
   "cell_type": "markdown",
   "metadata": {},
   "source": [
    "## Search Query"
   ]
  },
  {
   "cell_type": "code",
   "execution_count": 6,
   "metadata": {
    "scrolled": true
   },
   "outputs": [
    {
     "name": "stdout",
     "output_type": "stream",
     "text": [
      "SEARCH QUERY for \"fight club\" in movies \n",
      "\n",
      "documents returned: \n",
      "[{'searchScore': 7.272398471832275, 'title': 'Fight Club'},\n",
      " {'searchScore': 4.605143070220947, 'title': 'Fight, Zatoichi, Fight'},\n",
      " {'searchScore': 4.605143070220947, 'title': 'Fight, Zatoichi, Fight'},\n",
      " {'searchScore': 3.871953248977661, 'title': 'Street Fight'},\n",
      " {'searchScore': 3.871953248977661, 'title': 'Girl Fight'},\n",
      " {'searchScore': 3.4004452228546143, 'title': 'Club Paradise'},\n",
      " {'searchScore': 3.4004452228546143, 'title': 'Typhoon Club'},\n",
      " {'searchScore': 3.4004452228546143, 'title': 'Suicide Club'},\n",
      " {'searchScore': 3.4004452228546143, 'title': 'The Club'},\n",
      " {'searchScore': 3.4004452228546143, 'title': 'Typhoon Club'}]\n",
      "\n",
      "\n",
      "index size: 1.2 MB\n",
      "elapsed time in MS: 373.43406677246094\n"
     ]
    }
   ],
   "source": [
    "# get index size\n",
    "# TODO\n",
    "\n",
    "# run query\n",
    "search_term = \"fight club\"\n",
    "pipeline = [\n",
    "    {\n",
    "        '$search': {\n",
    "            'text': {\n",
    "                'query': search_term,\n",
    "                'path': \"title\"\n",
    "            }\n",
    "        }\n",
    "    }, {\n",
    "        '$project': {\n",
    "            \"title\": 1, \n",
    "            '_id': 0,\n",
    "            \"searchScore\":{'$meta':'searchScore'}\n",
    "        }\n",
    "    }, \n",
    "    {\n",
    "        '$sort':{\"searchScore\":-1}\n",
    "    },\n",
    "    {\n",
    "        '$limit': 10\n",
    "    }\n",
    "]\n",
    "\n",
    "# execute and measure elapsed time\n",
    "start_time = time.time()\n",
    "search_query = client[collection].aggregate(pipeline)\n",
    "end_time = time.time()\n",
    "\n",
    "print(f'SEARCH QUERY for \"{search_term}\" in {collection} \\n')\n",
    "print('documents returned: ')\n",
    "pprint.pprint(list(search_query))\n",
    "print('\\n')\n",
    "\n",
    "# TODO: call atlas search API to get index size\n",
    "print('index size: 1.2 MB')\n",
    "\n",
    "print(f'elapsed time in MS: {(end_time - start_time) * 1000}')\n"
   ]
  },
  {
   "cell_type": "markdown",
   "metadata": {},
   "source": [
    "![fts index](fts_index.png)"
   ]
  },
  {
   "cell_type": "markdown",
   "metadata": {},
   "source": [
    "### Notice a couple things:\n",
    "\n",
    "1. the index size isn't that much larger than the standard text\n",
    "2. The documents are ordered in terms of relevance\n",
    "3. the querying syntax is no different than $text\n",
    "4. speed is on par with $text\n",
    "5. the queries are typo tolerant\n",
    "6. sending the query as the user types in from the string vs injecting new characters"
   ]
  },
  {
   "cell_type": "code",
   "execution_count": null,
   "metadata": {},
   "outputs": [],
   "source": []
  }
 ],
 "metadata": {
  "kernelspec": {
   "display_name": "Python 3",
   "language": "python",
   "name": "python3"
  },
  "language_info": {
   "codemirror_mode": {
    "name": "ipython",
    "version": 3
   },
   "file_extension": ".py",
   "mimetype": "text/x-python",
   "name": "python",
   "nbconvert_exporter": "python",
   "pygments_lexer": "ipython3",
   "version": "3.8.1"
  }
 },
 "nbformat": 4,
 "nbformat_minor": 4
}
